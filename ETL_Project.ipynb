{
 "cells": [
  {
   "cell_type": "markdown",
   "id": "30e6f9c9-9240-4d89-86ac-885dc7349131",
   "metadata": {},
   "source": [
    "## Step 1: Data Loading"
   ]
  },
  {
   "cell_type": "code",
   "execution_count": 1,
   "id": "65432c18-a3d7-4808-9b27-d24b9bc170a4",
   "metadata": {},
   "outputs": [],
   "source": [
    "import pandas as pd\n",
    "\n",
    "# Load the CSV files\n",
    "df_customers = pd.read_csv('Data Source/customers.csv')\n",
    "df_products = pd.read_csv('Data Source/products.csv')\n",
    "df_stores = pd.read_csv('Data Source/stores.csv')\n",
    "    "
   ]
  },
  {
   "cell_type": "code",
   "execution_count": 3,
   "id": "8bda721f-04e3-48cc-863d-64b143e3394f",
   "metadata": {},
   "outputs": [
    {
     "data": {
      "text/html": [
       "<div>\n",
       "<style scoped>\n",
       "    .dataframe tbody tr th:only-of-type {\n",
       "        vertical-align: middle;\n",
       "    }\n",
       "\n",
       "    .dataframe tbody tr th {\n",
       "        vertical-align: top;\n",
       "    }\n",
       "\n",
       "    .dataframe thead th {\n",
       "        text-align: right;\n",
       "    }\n",
       "</style>\n",
       "<table border=\"1\" class=\"dataframe\">\n",
       "  <thead>\n",
       "    <tr style=\"text-align: right;\">\n",
       "      <th></th>\n",
       "      <th>customer_id</th>\n",
       "      <th>first_name</th>\n",
       "      <th>last_name</th>\n",
       "      <th>phone</th>\n",
       "      <th>email</th>\n",
       "      <th>street</th>\n",
       "      <th>city</th>\n",
       "      <th>state</th>\n",
       "      <th>zip_code</th>\n",
       "    </tr>\n",
       "  </thead>\n",
       "  <tbody>\n",
       "    <tr>\n",
       "      <th>0</th>\n",
       "      <td>1</td>\n",
       "      <td>Debra</td>\n",
       "      <td>Burks</td>\n",
       "      <td>NaN</td>\n",
       "      <td>debra.burks@yahoo.com</td>\n",
       "      <td>9273 Thorne Ave.</td>\n",
       "      <td>Orchard Park</td>\n",
       "      <td>NY</td>\n",
       "      <td>14127</td>\n",
       "    </tr>\n",
       "    <tr>\n",
       "      <th>1</th>\n",
       "      <td>2</td>\n",
       "      <td>Kasha</td>\n",
       "      <td>Todd</td>\n",
       "      <td>NaN</td>\n",
       "      <td>kasha.todd@yahoo.com</td>\n",
       "      <td>910 Vine Street</td>\n",
       "      <td>Campbell</td>\n",
       "      <td>CA</td>\n",
       "      <td>95008</td>\n",
       "    </tr>\n",
       "    <tr>\n",
       "      <th>2</th>\n",
       "      <td>3</td>\n",
       "      <td>Tameka</td>\n",
       "      <td>Fisher</td>\n",
       "      <td>NaN</td>\n",
       "      <td>tameka.fisher@aol.com</td>\n",
       "      <td>769C Honey Creek St.</td>\n",
       "      <td>Redondo Beach</td>\n",
       "      <td>CA</td>\n",
       "      <td>90278</td>\n",
       "    </tr>\n",
       "    <tr>\n",
       "      <th>3</th>\n",
       "      <td>4</td>\n",
       "      <td>Daryl</td>\n",
       "      <td>Spence</td>\n",
       "      <td>NaN</td>\n",
       "      <td>daryl.spence@aol.com</td>\n",
       "      <td>988 Pearl Lane</td>\n",
       "      <td>Uniondale</td>\n",
       "      <td>NY</td>\n",
       "      <td>11553</td>\n",
       "    </tr>\n",
       "    <tr>\n",
       "      <th>4</th>\n",
       "      <td>5</td>\n",
       "      <td>Charolette</td>\n",
       "      <td>Rice</td>\n",
       "      <td>(916) 381-6003</td>\n",
       "      <td>charolette.rice@msn.com</td>\n",
       "      <td>107 River Dr.</td>\n",
       "      <td>Sacramento</td>\n",
       "      <td>CA</td>\n",
       "      <td>95820</td>\n",
       "    </tr>\n",
       "  </tbody>\n",
       "</table>\n",
       "</div>"
      ],
      "text/plain": [
       "   customer_id  first_name last_name           phone                    email  \\\n",
       "0            1       Debra     Burks             NaN    debra.burks@yahoo.com   \n",
       "1            2       Kasha      Todd             NaN     kasha.todd@yahoo.com   \n",
       "2            3      Tameka    Fisher             NaN    tameka.fisher@aol.com   \n",
       "3            4       Daryl    Spence             NaN     daryl.spence@aol.com   \n",
       "4            5  Charolette      Rice  (916) 381-6003  charolette.rice@msn.com   \n",
       "\n",
       "                  street           city state  zip_code  \n",
       "0      9273 Thorne Ave.    Orchard Park    NY     14127  \n",
       "1       910 Vine Street        Campbell    CA     95008  \n",
       "2  769C Honey Creek St.   Redondo Beach    CA     90278  \n",
       "3        988 Pearl Lane       Uniondale    NY     11553  \n",
       "4         107 River Dr.      Sacramento    CA     95820  "
      ]
     },
     "execution_count": 3,
     "metadata": {},
     "output_type": "execute_result"
    }
   ],
   "source": [
    "# Display the first few rows of df_customers dataframe\n",
    "df_customers.head()"
   ]
  },
  {
   "cell_type": "code",
   "execution_count": 5,
   "id": "9fda1d34-ddd7-40b0-b20a-cd1e1ec85cfd",
   "metadata": {},
   "outputs": [
    {
     "data": {
      "text/html": [
       "<div>\n",
       "<style scoped>\n",
       "    .dataframe tbody tr th:only-of-type {\n",
       "        vertical-align: middle;\n",
       "    }\n",
       "\n",
       "    .dataframe tbody tr th {\n",
       "        vertical-align: top;\n",
       "    }\n",
       "\n",
       "    .dataframe thead th {\n",
       "        text-align: right;\n",
       "    }\n",
       "</style>\n",
       "<table border=\"1\" class=\"dataframe\">\n",
       "  <thead>\n",
       "    <tr style=\"text-align: right;\">\n",
       "      <th></th>\n",
       "      <th>product_id</th>\n",
       "      <th>product_name</th>\n",
       "      <th>brand_id</th>\n",
       "      <th>category_id</th>\n",
       "      <th>model_year</th>\n",
       "      <th>list_price</th>\n",
       "    </tr>\n",
       "  </thead>\n",
       "  <tbody>\n",
       "    <tr>\n",
       "      <th>0</th>\n",
       "      <td>1</td>\n",
       "      <td>Trek 820 - 2016</td>\n",
       "      <td>9</td>\n",
       "      <td>6</td>\n",
       "      <td>2016</td>\n",
       "      <td>379.99</td>\n",
       "    </tr>\n",
       "    <tr>\n",
       "      <th>1</th>\n",
       "      <td>2</td>\n",
       "      <td>Ritchey Timberwolf Frameset - 2016</td>\n",
       "      <td>5</td>\n",
       "      <td>6</td>\n",
       "      <td>2016</td>\n",
       "      <td>749.99</td>\n",
       "    </tr>\n",
       "    <tr>\n",
       "      <th>2</th>\n",
       "      <td>3</td>\n",
       "      <td>Surly Wednesday Frameset - 2016</td>\n",
       "      <td>8</td>\n",
       "      <td>6</td>\n",
       "      <td>2016</td>\n",
       "      <td>999.99</td>\n",
       "    </tr>\n",
       "    <tr>\n",
       "      <th>3</th>\n",
       "      <td>4</td>\n",
       "      <td>Trek Fuel EX 8 29 - 2016</td>\n",
       "      <td>9</td>\n",
       "      <td>6</td>\n",
       "      <td>2016</td>\n",
       "      <td>2899.99</td>\n",
       "    </tr>\n",
       "    <tr>\n",
       "      <th>4</th>\n",
       "      <td>5</td>\n",
       "      <td>Heller Shagamaw Frame - 2016</td>\n",
       "      <td>3</td>\n",
       "      <td>6</td>\n",
       "      <td>2016</td>\n",
       "      <td>1320.99</td>\n",
       "    </tr>\n",
       "  </tbody>\n",
       "</table>\n",
       "</div>"
      ],
      "text/plain": [
       "   product_id                        product_name  brand_id  category_id  \\\n",
       "0           1                     Trek 820 - 2016         9            6   \n",
       "1           2  Ritchey Timberwolf Frameset - 2016         5            6   \n",
       "2           3     Surly Wednesday Frameset - 2016         8            6   \n",
       "3           4            Trek Fuel EX 8 29 - 2016         9            6   \n",
       "4           5        Heller Shagamaw Frame - 2016         3            6   \n",
       "\n",
       "   model_year  list_price  \n",
       "0        2016      379.99  \n",
       "1        2016      749.99  \n",
       "2        2016      999.99  \n",
       "3        2016     2899.99  \n",
       "4        2016     1320.99  "
      ]
     },
     "execution_count": 5,
     "metadata": {},
     "output_type": "execute_result"
    }
   ],
   "source": [
    "# Display the first few rows of df_products dataframe\n",
    "df_products.head()"
   ]
  },
  {
   "cell_type": "code",
   "execution_count": 7,
   "id": "3eaf5a96-0439-4d14-b2b5-2f1a1ec8f2a2",
   "metadata": {},
   "outputs": [
    {
     "data": {
      "text/html": [
       "<div>\n",
       "<style scoped>\n",
       "    .dataframe tbody tr th:only-of-type {\n",
       "        vertical-align: middle;\n",
       "    }\n",
       "\n",
       "    .dataframe tbody tr th {\n",
       "        vertical-align: top;\n",
       "    }\n",
       "\n",
       "    .dataframe thead th {\n",
       "        text-align: right;\n",
       "    }\n",
       "</style>\n",
       "<table border=\"1\" class=\"dataframe\">\n",
       "  <thead>\n",
       "    <tr style=\"text-align: right;\">\n",
       "      <th></th>\n",
       "      <th>store_id</th>\n",
       "      <th>store_name</th>\n",
       "      <th>phone</th>\n",
       "      <th>email</th>\n",
       "      <th>street</th>\n",
       "      <th>city</th>\n",
       "      <th>state</th>\n",
       "      <th>zip_code</th>\n",
       "    </tr>\n",
       "  </thead>\n",
       "  <tbody>\n",
       "    <tr>\n",
       "      <th>0</th>\n",
       "      <td>1</td>\n",
       "      <td>Santa Cruz Bikes</td>\n",
       "      <td>(831) 476-4321</td>\n",
       "      <td>NaN</td>\n",
       "      <td>3700 Portola Drive</td>\n",
       "      <td>Santa Cruz</td>\n",
       "      <td>CA</td>\n",
       "      <td>NaN</td>\n",
       "    </tr>\n",
       "    <tr>\n",
       "      <th>1</th>\n",
       "      <td>2</td>\n",
       "      <td>Baldwin Bikes</td>\n",
       "      <td>(516) 379-8888</td>\n",
       "      <td>baldwin@bikes.shop</td>\n",
       "      <td>4200 Chestnut Lane</td>\n",
       "      <td>Baldwin</td>\n",
       "      <td>NY</td>\n",
       "      <td>11432.0</td>\n",
       "    </tr>\n",
       "    <tr>\n",
       "      <th>2</th>\n",
       "      <td>3</td>\n",
       "      <td>Rowlett Bikes</td>\n",
       "      <td>(972) 530-5555</td>\n",
       "      <td>rowlett@bikes.shop</td>\n",
       "      <td>8000 Fairway Avenue</td>\n",
       "      <td>Rowlett</td>\n",
       "      <td>TX</td>\n",
       "      <td>75088.0</td>\n",
       "    </tr>\n",
       "  </tbody>\n",
       "</table>\n",
       "</div>"
      ],
      "text/plain": [
       "   store_id        store_name           phone               email  \\\n",
       "0         1  Santa Cruz Bikes  (831) 476-4321                 NaN   \n",
       "1         2     Baldwin Bikes  (516) 379-8888  baldwin@bikes.shop   \n",
       "2         3     Rowlett Bikes  (972) 530-5555  rowlett@bikes.shop   \n",
       "\n",
       "                street        city state  zip_code  \n",
       "0   3700 Portola Drive  Santa Cruz    CA       NaN  \n",
       "1   4200 Chestnut Lane     Baldwin    NY   11432.0  \n",
       "2  8000 Fairway Avenue     Rowlett    TX   75088.0  "
      ]
     },
     "execution_count": 7,
     "metadata": {},
     "output_type": "execute_result"
    }
   ],
   "source": [
    "# Display the first few rows of df_stores dataframe\n",
    "df_stores.head()"
   ]
  },
  {
   "cell_type": "markdown",
   "id": "b3fdec58-984c-4e36-bcfe-391d31d34159",
   "metadata": {},
   "source": [
    "## Step 2: Data Exploration"
   ]
  },
  {
   "cell_type": "code",
   "execution_count": 14,
   "id": "e71fe3d4-169b-489e-bc5d-a4850e76b7ce",
   "metadata": {},
   "outputs": [
    {
     "name": "stdout",
     "output_type": "stream",
     "text": [
      "<class 'pandas.core.frame.DataFrame'>\n",
      "RangeIndex: 1445 entries, 0 to 1444\n",
      "Data columns (total 9 columns):\n",
      " #   Column       Non-Null Count  Dtype \n",
      "---  ------       --------------  ----- \n",
      " 0   customer_id  1445 non-null   int64 \n",
      " 1   first_name   1445 non-null   object\n",
      " 2   last_name    1445 non-null   object\n",
      " 3   phone        178 non-null    object\n",
      " 4   email        1445 non-null   object\n",
      " 5   street       1445 non-null   object\n",
      " 6   city         1445 non-null   object\n",
      " 7   state        1445 non-null   object\n",
      " 8   zip_code     1445 non-null   int64 \n",
      "dtypes: int64(2), object(7)\n",
      "memory usage: 101.7+ KB\n"
     ]
    }
   ],
   "source": [
    "df_customers.info()"
   ]
  },
  {
   "cell_type": "markdown",
   "id": "ebdce5ed-cb04-4680-a899-7f1ded7827d1",
   "metadata": {},
   "source": [
    "**There are 9 columns, with some missing values in the phone column**"
   ]
  },
  {
   "cell_type": "code",
   "execution_count": 17,
   "id": "5868909f-0872-45a2-822d-49b99cd2491e",
   "metadata": {},
   "outputs": [
    {
     "name": "stdout",
     "output_type": "stream",
     "text": [
      "<class 'pandas.core.frame.DataFrame'>\n",
      "RangeIndex: 334 entries, 0 to 333\n",
      "Data columns (total 6 columns):\n",
      " #   Column        Non-Null Count  Dtype  \n",
      "---  ------        --------------  -----  \n",
      " 0   product_id    334 non-null    int64  \n",
      " 1   product_name  334 non-null    object \n",
      " 2   brand_id      334 non-null    int64  \n",
      " 3   category_id   334 non-null    int64  \n",
      " 4   model_year    334 non-null    int64  \n",
      " 5   list_price    334 non-null    float64\n",
      "dtypes: float64(1), int64(4), object(1)\n",
      "memory usage: 15.8+ KB\n"
     ]
    }
   ],
   "source": [
    "df_products.info()"
   ]
  },
  {
   "cell_type": "markdown",
   "id": "9a96cef0-0e5d-41f0-9745-d73b40bb9ada",
   "metadata": {},
   "source": [
    "**There are no missing values to handle.** "
   ]
  },
  {
   "cell_type": "code",
   "execution_count": 20,
   "id": "dd4d542f-b599-4d70-92d1-04ad1a135e64",
   "metadata": {},
   "outputs": [
    {
     "name": "stdout",
     "output_type": "stream",
     "text": [
      "<class 'pandas.core.frame.DataFrame'>\n",
      "RangeIndex: 3 entries, 0 to 2\n",
      "Data columns (total 8 columns):\n",
      " #   Column      Non-Null Count  Dtype  \n",
      "---  ------      --------------  -----  \n",
      " 0   store_id    3 non-null      int64  \n",
      " 1   store_name  3 non-null      object \n",
      " 2   phone       3 non-null      object \n",
      " 3   email       2 non-null      object \n",
      " 4   street      3 non-null      object \n",
      " 5   city        3 non-null      object \n",
      " 6   state       3 non-null      object \n",
      " 7   zip_code    2 non-null      float64\n",
      "dtypes: float64(1), int64(1), object(6)\n",
      "memory usage: 324.0+ bytes\n"
     ]
    }
   ],
   "source": [
    "df_stores.info()"
   ]
  },
  {
   "cell_type": "markdown",
   "id": "beb2c3d8-613d-4a7f-9448-442fa414d4ea",
   "metadata": {},
   "source": [
    "- **There are missing values in the email and zip_code columns.**\n",
    "\n",
    "- **zip_code column has a float64 data type**, which we should change to an integer or string format because ZIP codes are not typically represented as floating-point numbers."
   ]
  },
  {
   "cell_type": "markdown",
   "id": "65e74c68-d812-444f-aad5-7d7730cdf915",
   "metadata": {},
   "source": [
    "## Step 3: Data Cleaning"
   ]
  },
  {
   "cell_type": "markdown",
   "id": "4185fa9a-1f84-42ba-b8e0-e04f64537766",
   "metadata": {},
   "source": [
    "#### Handling *df_customers* dataframe missing values in the phone column"
   ]
  },
  {
   "cell_type": "code",
   "execution_count": 25,
   "id": "25a2ac1d-fa7c-41b8-bb3e-05538eb7e957",
   "metadata": {},
   "outputs": [],
   "source": [
    "# df_customers['phone'].fillna('Not Provided', inplace = True)\n",
    "df_customers['phone'] = df_customers['phone'].fillna('Not Provided')\n"
   ]
  },
  {
   "cell_type": "code",
   "execution_count": 27,
   "id": "41922c13-7733-47e2-947c-3c0e564e34f8",
   "metadata": {},
   "outputs": [
    {
     "name": "stdout",
     "output_type": "stream",
     "text": [
      "<class 'pandas.core.frame.DataFrame'>\n",
      "RangeIndex: 1445 entries, 0 to 1444\n",
      "Data columns (total 9 columns):\n",
      " #   Column       Non-Null Count  Dtype \n",
      "---  ------       --------------  ----- \n",
      " 0   customer_id  1445 non-null   int64 \n",
      " 1   first_name   1445 non-null   object\n",
      " 2   last_name    1445 non-null   object\n",
      " 3   phone        1445 non-null   object\n",
      " 4   email        1445 non-null   object\n",
      " 5   street       1445 non-null   object\n",
      " 6   city         1445 non-null   object\n",
      " 7   state        1445 non-null   object\n",
      " 8   zip_code     1445 non-null   int64 \n",
      "dtypes: int64(2), object(7)\n",
      "memory usage: 101.7+ KB\n"
     ]
    }
   ],
   "source": [
    "df_customers.info()"
   ]
  },
  {
   "cell_type": "markdown",
   "id": "074570d6-c871-4a04-8017-a49a04ddeb8a",
   "metadata": {},
   "source": [
    "#### Handling *df_stores* dataframe missing values in the email, zip_code columns"
   ]
  },
  {
   "cell_type": "code",
   "execution_count": 30,
   "id": "42417025-f3c8-4fa7-87a3-0c8d87d85845",
   "metadata": {},
   "outputs": [],
   "source": [
    "df_stores['email'] = df_stores['email'].fillna('Not Provided')"
   ]
  },
  {
   "cell_type": "code",
   "execution_count": 32,
   "id": "f12151ab-24fc-4d52-8c3f-097db0672ca1",
   "metadata": {},
   "outputs": [],
   "source": [
    "df_stores['zip_code'] = df_stores['zip_code'].fillna(00000)"
   ]
  },
  {
   "cell_type": "markdown",
   "id": "10770f4f-97c3-4f17-a528-370c5a93af53",
   "metadata": {},
   "source": [
    "#### Converting zip_code to an integer type "
   ]
  },
  {
   "cell_type": "code",
   "execution_count": 41,
   "id": "e08d31d4-6c92-479e-ae2e-1bbea6e6b5f2",
   "metadata": {},
   "outputs": [],
   "source": [
    "df_stores['zip_code'] = df_stores['zip_code'].astype(int)"
   ]
  },
  {
   "cell_type": "code",
   "execution_count": 43,
   "id": "0d1a1389-85bd-4309-9d6f-e06423d33552",
   "metadata": {},
   "outputs": [
    {
     "name": "stdout",
     "output_type": "stream",
     "text": [
      "<class 'pandas.core.frame.DataFrame'>\n",
      "RangeIndex: 3 entries, 0 to 2\n",
      "Data columns (total 8 columns):\n",
      " #   Column      Non-Null Count  Dtype \n",
      "---  ------      --------------  ----- \n",
      " 0   store_id    3 non-null      int64 \n",
      " 1   store_name  3 non-null      object\n",
      " 2   phone       3 non-null      object\n",
      " 3   email       3 non-null      object\n",
      " 4   street      3 non-null      object\n",
      " 5   city        3 non-null      object\n",
      " 6   state       3 non-null      object\n",
      " 7   zip_code    3 non-null      int32 \n",
      "dtypes: int32(1), int64(1), object(6)\n",
      "memory usage: 312.0+ bytes\n"
     ]
    }
   ],
   "source": [
    "df_stores.info()"
   ]
  },
  {
   "cell_type": "markdown",
   "id": "68265df6-1b33-4b7b-a886-de7f6b1733a0",
   "metadata": {},
   "source": [
    "## Step 4: Data Transformation"
   ]
  },
  {
   "cell_type": "markdown",
   "id": "13e168c3-270f-4816-8aac-11d1fbd98b7d",
   "metadata": {},
   "source": [
    "#### Customers table: Combining the first_name and last_name columns into a single full_name column"
   ]
  },
  {
   "cell_type": "code",
   "execution_count": 49,
   "id": "01da477f-8765-418b-a5c9-c7082ec3a951",
   "metadata": {},
   "outputs": [],
   "source": [
    "df_customers['full_name'] = df_customers['first_name'] + ' ' + df_customers['last_name']"
   ]
  },
  {
   "cell_type": "code",
   "execution_count": 51,
   "id": "0af81dc4-530d-4d6a-bf81-c49415df2fcc",
   "metadata": {},
   "outputs": [
    {
     "data": {
      "text/html": [
       "<div>\n",
       "<style scoped>\n",
       "    .dataframe tbody tr th:only-of-type {\n",
       "        vertical-align: middle;\n",
       "    }\n",
       "\n",
       "    .dataframe tbody tr th {\n",
       "        vertical-align: top;\n",
       "    }\n",
       "\n",
       "    .dataframe thead th {\n",
       "        text-align: right;\n",
       "    }\n",
       "</style>\n",
       "<table border=\"1\" class=\"dataframe\">\n",
       "  <thead>\n",
       "    <tr style=\"text-align: right;\">\n",
       "      <th></th>\n",
       "      <th>customer_id</th>\n",
       "      <th>first_name</th>\n",
       "      <th>last_name</th>\n",
       "      <th>phone</th>\n",
       "      <th>email</th>\n",
       "      <th>street</th>\n",
       "      <th>city</th>\n",
       "      <th>state</th>\n",
       "      <th>zip_code</th>\n",
       "      <th>full_name</th>\n",
       "    </tr>\n",
       "  </thead>\n",
       "  <tbody>\n",
       "    <tr>\n",
       "      <th>0</th>\n",
       "      <td>1</td>\n",
       "      <td>Debra</td>\n",
       "      <td>Burks</td>\n",
       "      <td>Not Provided</td>\n",
       "      <td>debra.burks@yahoo.com</td>\n",
       "      <td>9273 Thorne Ave.</td>\n",
       "      <td>Orchard Park</td>\n",
       "      <td>NY</td>\n",
       "      <td>14127</td>\n",
       "      <td>Debra Burks</td>\n",
       "    </tr>\n",
       "    <tr>\n",
       "      <th>1</th>\n",
       "      <td>2</td>\n",
       "      <td>Kasha</td>\n",
       "      <td>Todd</td>\n",
       "      <td>Not Provided</td>\n",
       "      <td>kasha.todd@yahoo.com</td>\n",
       "      <td>910 Vine Street</td>\n",
       "      <td>Campbell</td>\n",
       "      <td>CA</td>\n",
       "      <td>95008</td>\n",
       "      <td>Kasha Todd</td>\n",
       "    </tr>\n",
       "    <tr>\n",
       "      <th>2</th>\n",
       "      <td>3</td>\n",
       "      <td>Tameka</td>\n",
       "      <td>Fisher</td>\n",
       "      <td>Not Provided</td>\n",
       "      <td>tameka.fisher@aol.com</td>\n",
       "      <td>769C Honey Creek St.</td>\n",
       "      <td>Redondo Beach</td>\n",
       "      <td>CA</td>\n",
       "      <td>90278</td>\n",
       "      <td>Tameka Fisher</td>\n",
       "    </tr>\n",
       "    <tr>\n",
       "      <th>3</th>\n",
       "      <td>4</td>\n",
       "      <td>Daryl</td>\n",
       "      <td>Spence</td>\n",
       "      <td>Not Provided</td>\n",
       "      <td>daryl.spence@aol.com</td>\n",
       "      <td>988 Pearl Lane</td>\n",
       "      <td>Uniondale</td>\n",
       "      <td>NY</td>\n",
       "      <td>11553</td>\n",
       "      <td>Daryl Spence</td>\n",
       "    </tr>\n",
       "    <tr>\n",
       "      <th>4</th>\n",
       "      <td>5</td>\n",
       "      <td>Charolette</td>\n",
       "      <td>Rice</td>\n",
       "      <td>(916) 381-6003</td>\n",
       "      <td>charolette.rice@msn.com</td>\n",
       "      <td>107 River Dr.</td>\n",
       "      <td>Sacramento</td>\n",
       "      <td>CA</td>\n",
       "      <td>95820</td>\n",
       "      <td>Charolette Rice</td>\n",
       "    </tr>\n",
       "    <tr>\n",
       "      <th>...</th>\n",
       "      <td>...</td>\n",
       "      <td>...</td>\n",
       "      <td>...</td>\n",
       "      <td>...</td>\n",
       "      <td>...</td>\n",
       "      <td>...</td>\n",
       "      <td>...</td>\n",
       "      <td>...</td>\n",
       "      <td>...</td>\n",
       "      <td>...</td>\n",
       "    </tr>\n",
       "    <tr>\n",
       "      <th>1440</th>\n",
       "      <td>1441</td>\n",
       "      <td>Jamaal</td>\n",
       "      <td>Morrison</td>\n",
       "      <td>Not Provided</td>\n",
       "      <td>jamaal.morrison@msn.com</td>\n",
       "      <td>796 SE. Nut Swamp St.</td>\n",
       "      <td>Staten Island</td>\n",
       "      <td>NY</td>\n",
       "      <td>10301</td>\n",
       "      <td>Jamaal Morrison</td>\n",
       "    </tr>\n",
       "    <tr>\n",
       "      <th>1441</th>\n",
       "      <td>1442</td>\n",
       "      <td>Cassie</td>\n",
       "      <td>Cline</td>\n",
       "      <td>Not Provided</td>\n",
       "      <td>cassie.cline@gmail.com</td>\n",
       "      <td>947 Lafayette Drive</td>\n",
       "      <td>Brooklyn</td>\n",
       "      <td>NY</td>\n",
       "      <td>11201</td>\n",
       "      <td>Cassie Cline</td>\n",
       "    </tr>\n",
       "    <tr>\n",
       "      <th>1442</th>\n",
       "      <td>1443</td>\n",
       "      <td>Lezlie</td>\n",
       "      <td>Lamb</td>\n",
       "      <td>Not Provided</td>\n",
       "      <td>lezlie.lamb@gmail.com</td>\n",
       "      <td>401 Brandywine Street</td>\n",
       "      <td>Central Islip</td>\n",
       "      <td>NY</td>\n",
       "      <td>11722</td>\n",
       "      <td>Lezlie Lamb</td>\n",
       "    </tr>\n",
       "    <tr>\n",
       "      <th>1443</th>\n",
       "      <td>1444</td>\n",
       "      <td>Ivette</td>\n",
       "      <td>Estes</td>\n",
       "      <td>Not Provided</td>\n",
       "      <td>ivette.estes@gmail.com</td>\n",
       "      <td>88 N. Canterbury Ave.</td>\n",
       "      <td>Canandaigua</td>\n",
       "      <td>NY</td>\n",
       "      <td>14424</td>\n",
       "      <td>Ivette Estes</td>\n",
       "    </tr>\n",
       "    <tr>\n",
       "      <th>1444</th>\n",
       "      <td>1445</td>\n",
       "      <td>Ester</td>\n",
       "      <td>Acevedo</td>\n",
       "      <td>Not Provided</td>\n",
       "      <td>ester.acevedo@gmail.com</td>\n",
       "      <td>671 Miles Court</td>\n",
       "      <td>San Lorenzo</td>\n",
       "      <td>CA</td>\n",
       "      <td>94580</td>\n",
       "      <td>Ester Acevedo</td>\n",
       "    </tr>\n",
       "  </tbody>\n",
       "</table>\n",
       "<p>1445 rows × 10 columns</p>\n",
       "</div>"
      ],
      "text/plain": [
       "      customer_id  first_name last_name           phone  \\\n",
       "0               1       Debra     Burks    Not Provided   \n",
       "1               2       Kasha      Todd    Not Provided   \n",
       "2               3      Tameka    Fisher    Not Provided   \n",
       "3               4       Daryl    Spence    Not Provided   \n",
       "4               5  Charolette      Rice  (916) 381-6003   \n",
       "...           ...         ...       ...             ...   \n",
       "1440         1441      Jamaal  Morrison    Not Provided   \n",
       "1441         1442      Cassie     Cline    Not Provided   \n",
       "1442         1443      Lezlie      Lamb    Not Provided   \n",
       "1443         1444      Ivette     Estes    Not Provided   \n",
       "1444         1445       Ester   Acevedo    Not Provided   \n",
       "\n",
       "                        email                  street           city state  \\\n",
       "0       debra.burks@yahoo.com       9273 Thorne Ave.    Orchard Park    NY   \n",
       "1        kasha.todd@yahoo.com        910 Vine Street        Campbell    CA   \n",
       "2       tameka.fisher@aol.com   769C Honey Creek St.   Redondo Beach    CA   \n",
       "3        daryl.spence@aol.com         988 Pearl Lane       Uniondale    NY   \n",
       "4     charolette.rice@msn.com          107 River Dr.      Sacramento    CA   \n",
       "...                       ...                     ...            ...   ...   \n",
       "1440  jamaal.morrison@msn.com  796 SE. Nut Swamp St.   Staten Island    NY   \n",
       "1441   cassie.cline@gmail.com    947 Lafayette Drive        Brooklyn    NY   \n",
       "1442    lezlie.lamb@gmail.com  401 Brandywine Street   Central Islip    NY   \n",
       "1443   ivette.estes@gmail.com  88 N. Canterbury Ave.     Canandaigua    NY   \n",
       "1444  ester.acevedo@gmail.com        671 Miles Court     San Lorenzo    CA   \n",
       "\n",
       "      zip_code        full_name  \n",
       "0        14127      Debra Burks  \n",
       "1        95008       Kasha Todd  \n",
       "2        90278    Tameka Fisher  \n",
       "3        11553     Daryl Spence  \n",
       "4        95820  Charolette Rice  \n",
       "...        ...              ...  \n",
       "1440     10301  Jamaal Morrison  \n",
       "1441     11201     Cassie Cline  \n",
       "1442     11722      Lezlie Lamb  \n",
       "1443     14424     Ivette Estes  \n",
       "1444     94580    Ester Acevedo  \n",
       "\n",
       "[1445 rows x 10 columns]"
      ]
     },
     "execution_count": 51,
     "metadata": {},
     "output_type": "execute_result"
    }
   ],
   "source": [
    "df_customers"
   ]
  },
  {
   "cell_type": "markdown",
   "id": "bb56e1aa-9539-4638-8d99-72d7c70c39fc",
   "metadata": {},
   "source": [
    "#### Grouping data by city and state to analyze customer distribution"
   ]
  },
  {
   "cell_type": "code",
   "execution_count": 54,
   "id": "9a40462a-553c-41d8-ba47-6193d3de847c",
   "metadata": {},
   "outputs": [],
   "source": [
    "df_city_distribution = df_customers.groupby('city')['customer_id'].count().reset_index(name='customer_count')\n",
    "df_state_distribution = df_customers.groupby('state')['customer_id'].count().reset_index(name='customer_count')\n"
   ]
  },
  {
   "cell_type": "code",
   "execution_count": 56,
   "id": "afa60fb7-bc9b-489d-b19b-9d94bff5e39e",
   "metadata": {},
   "outputs": [
    {
     "data": {
      "text/html": [
       "<div>\n",
       "<style scoped>\n",
       "    .dataframe tbody tr th:only-of-type {\n",
       "        vertical-align: middle;\n",
       "    }\n",
       "\n",
       "    .dataframe tbody tr th {\n",
       "        vertical-align: top;\n",
       "    }\n",
       "\n",
       "    .dataframe thead th {\n",
       "        text-align: right;\n",
       "    }\n",
       "</style>\n",
       "<table border=\"1\" class=\"dataframe\">\n",
       "  <thead>\n",
       "    <tr style=\"text-align: right;\">\n",
       "      <th></th>\n",
       "      <th>city</th>\n",
       "      <th>customer_count</th>\n",
       "    </tr>\n",
       "  </thead>\n",
       "  <tbody>\n",
       "    <tr>\n",
       "      <th>0</th>\n",
       "      <td>Albany</td>\n",
       "      <td>3</td>\n",
       "    </tr>\n",
       "    <tr>\n",
       "      <th>1</th>\n",
       "      <td>Amarillo</td>\n",
       "      <td>5</td>\n",
       "    </tr>\n",
       "    <tr>\n",
       "      <th>2</th>\n",
       "      <td>Amityville</td>\n",
       "      <td>9</td>\n",
       "    </tr>\n",
       "    <tr>\n",
       "      <th>3</th>\n",
       "      <td>Amsterdam</td>\n",
       "      <td>5</td>\n",
       "    </tr>\n",
       "    <tr>\n",
       "      <th>4</th>\n",
       "      <td>Anaheim</td>\n",
       "      <td>11</td>\n",
       "    </tr>\n",
       "    <tr>\n",
       "      <th>...</th>\n",
       "      <td>...</td>\n",
       "      <td>...</td>\n",
       "    </tr>\n",
       "    <tr>\n",
       "      <th>190</th>\n",
       "      <td>Woodhaven</td>\n",
       "      <td>8</td>\n",
       "    </tr>\n",
       "    <tr>\n",
       "      <th>191</th>\n",
       "      <td>Woodside</td>\n",
       "      <td>10</td>\n",
       "    </tr>\n",
       "    <tr>\n",
       "      <th>192</th>\n",
       "      <td>Yonkers</td>\n",
       "      <td>6</td>\n",
       "    </tr>\n",
       "    <tr>\n",
       "      <th>193</th>\n",
       "      <td>Yorktown Heights</td>\n",
       "      <td>5</td>\n",
       "    </tr>\n",
       "    <tr>\n",
       "      <th>194</th>\n",
       "      <td>Yuba City</td>\n",
       "      <td>1</td>\n",
       "    </tr>\n",
       "  </tbody>\n",
       "</table>\n",
       "<p>195 rows × 2 columns</p>\n",
       "</div>"
      ],
      "text/plain": [
       "                 city  customer_count\n",
       "0              Albany               3\n",
       "1            Amarillo               5\n",
       "2          Amityville               9\n",
       "3           Amsterdam               5\n",
       "4             Anaheim              11\n",
       "..                ...             ...\n",
       "190         Woodhaven               8\n",
       "191          Woodside              10\n",
       "192           Yonkers               6\n",
       "193  Yorktown Heights               5\n",
       "194         Yuba City               1\n",
       "\n",
       "[195 rows x 2 columns]"
      ]
     },
     "execution_count": 56,
     "metadata": {},
     "output_type": "execute_result"
    }
   ],
   "source": [
    "df_city_distribution"
   ]
  },
  {
   "cell_type": "code",
   "execution_count": 58,
   "id": "cc55f164-e817-45da-ad8a-eb257fc427e5",
   "metadata": {},
   "outputs": [
    {
     "data": {
      "text/html": [
       "<div>\n",
       "<style scoped>\n",
       "    .dataframe tbody tr th:only-of-type {\n",
       "        vertical-align: middle;\n",
       "    }\n",
       "\n",
       "    .dataframe tbody tr th {\n",
       "        vertical-align: top;\n",
       "    }\n",
       "\n",
       "    .dataframe thead th {\n",
       "        text-align: right;\n",
       "    }\n",
       "</style>\n",
       "<table border=\"1\" class=\"dataframe\">\n",
       "  <thead>\n",
       "    <tr style=\"text-align: right;\">\n",
       "      <th></th>\n",
       "      <th>state</th>\n",
       "      <th>customer_count</th>\n",
       "    </tr>\n",
       "  </thead>\n",
       "  <tbody>\n",
       "    <tr>\n",
       "      <th>0</th>\n",
       "      <td>CA</td>\n",
       "      <td>284</td>\n",
       "    </tr>\n",
       "    <tr>\n",
       "      <th>1</th>\n",
       "      <td>NY</td>\n",
       "      <td>1019</td>\n",
       "    </tr>\n",
       "    <tr>\n",
       "      <th>2</th>\n",
       "      <td>TX</td>\n",
       "      <td>142</td>\n",
       "    </tr>\n",
       "  </tbody>\n",
       "</table>\n",
       "</div>"
      ],
      "text/plain": [
       "  state  customer_count\n",
       "0    CA             284\n",
       "1    NY            1019\n",
       "2    TX             142"
      ]
     },
     "execution_count": 58,
     "metadata": {},
     "output_type": "execute_result"
    }
   ],
   "source": [
    "df_state_distribution"
   ]
  },
  {
   "cell_type": "markdown",
   "id": "88adfb1f-864b-4da8-8fa6-9dece6355fa3",
   "metadata": {},
   "source": [
    "-------------------------------"
   ]
  },
  {
   "cell_type": "markdown",
   "id": "6639dd98-a6da-4457-9fc0-cf44a85178d0",
   "metadata": {},
   "source": [
    "### Products Table: categorizing products based on their price range "
   ]
  },
  {
   "cell_type": "code",
   "execution_count": 62,
   "id": "2522f126-807c-48ed-a630-e4d297b81985",
   "metadata": {},
   "outputs": [
    {
     "name": "stdout",
     "output_type": "stream",
     "text": [
      "count      334.000000\n",
      "mean      1498.053024\n",
      "std       1600.829625\n",
      "min         89.990000\n",
      "25%        416.990000\n",
      "50%        749.990000\n",
      "75%       2299.990000\n",
      "max      11999.990000\n",
      "Name: list_price, dtype: float64\n"
     ]
    }
   ],
   "source": [
    "print(df_products['list_price'].describe())"
   ]
  },
  {
   "cell_type": "code",
   "execution_count": 64,
   "id": "ba0e712f-022a-46d1-b6b2-2ac0f67bbd29",
   "metadata": {},
   "outputs": [],
   "source": [
    "bins = [0, 500, 2000, 5000, 10000, float('inf')]  \n",
    "labels = ['Very Low', 'Low', 'Medium', 'High', 'Very High']\n",
    "\n",
    "\n",
    "df_products['price_range'] = pd.cut(df_products['list_price'],\n",
    "                                    bins=bins,\n",
    "                                    labels=labels)"
   ]
  },
  {
   "cell_type": "code",
   "execution_count": 66,
   "id": "690e8a46-b9c5-4b00-b853-3dca0f44e794",
   "metadata": {},
   "outputs": [
    {
     "data": {
      "text/html": [
       "<div>\n",
       "<style scoped>\n",
       "    .dataframe tbody tr th:only-of-type {\n",
       "        vertical-align: middle;\n",
       "    }\n",
       "\n",
       "    .dataframe tbody tr th {\n",
       "        vertical-align: top;\n",
       "    }\n",
       "\n",
       "    .dataframe thead th {\n",
       "        text-align: right;\n",
       "    }\n",
       "</style>\n",
       "<table border=\"1\" class=\"dataframe\">\n",
       "  <thead>\n",
       "    <tr style=\"text-align: right;\">\n",
       "      <th></th>\n",
       "      <th>product_id</th>\n",
       "      <th>product_name</th>\n",
       "      <th>brand_id</th>\n",
       "      <th>category_id</th>\n",
       "      <th>model_year</th>\n",
       "      <th>list_price</th>\n",
       "      <th>price_range</th>\n",
       "    </tr>\n",
       "  </thead>\n",
       "  <tbody>\n",
       "    <tr>\n",
       "      <th>0</th>\n",
       "      <td>1</td>\n",
       "      <td>Trek 820 - 2016</td>\n",
       "      <td>9</td>\n",
       "      <td>6</td>\n",
       "      <td>2016</td>\n",
       "      <td>379.99</td>\n",
       "      <td>Very Low</td>\n",
       "    </tr>\n",
       "    <tr>\n",
       "      <th>1</th>\n",
       "      <td>2</td>\n",
       "      <td>Ritchey Timberwolf Frameset - 2016</td>\n",
       "      <td>5</td>\n",
       "      <td>6</td>\n",
       "      <td>2016</td>\n",
       "      <td>749.99</td>\n",
       "      <td>Low</td>\n",
       "    </tr>\n",
       "    <tr>\n",
       "      <th>2</th>\n",
       "      <td>3</td>\n",
       "      <td>Surly Wednesday Frameset - 2016</td>\n",
       "      <td>8</td>\n",
       "      <td>6</td>\n",
       "      <td>2016</td>\n",
       "      <td>999.99</td>\n",
       "      <td>Low</td>\n",
       "    </tr>\n",
       "    <tr>\n",
       "      <th>3</th>\n",
       "      <td>4</td>\n",
       "      <td>Trek Fuel EX 8 29 - 2016</td>\n",
       "      <td>9</td>\n",
       "      <td>6</td>\n",
       "      <td>2016</td>\n",
       "      <td>2899.99</td>\n",
       "      <td>Medium</td>\n",
       "    </tr>\n",
       "    <tr>\n",
       "      <th>4</th>\n",
       "      <td>5</td>\n",
       "      <td>Heller Shagamaw Frame - 2016</td>\n",
       "      <td>3</td>\n",
       "      <td>6</td>\n",
       "      <td>2016</td>\n",
       "      <td>1320.99</td>\n",
       "      <td>Low</td>\n",
       "    </tr>\n",
       "    <tr>\n",
       "      <th>...</th>\n",
       "      <td>...</td>\n",
       "      <td>...</td>\n",
       "      <td>...</td>\n",
       "      <td>...</td>\n",
       "      <td>...</td>\n",
       "      <td>...</td>\n",
       "      <td>...</td>\n",
       "    </tr>\n",
       "    <tr>\n",
       "      <th>329</th>\n",
       "      <td>317</td>\n",
       "      <td>Trek Checkpoint ALR 5 - 2019</td>\n",
       "      <td>9</td>\n",
       "      <td>7</td>\n",
       "      <td>2019</td>\n",
       "      <td>1999.99</td>\n",
       "      <td>Low</td>\n",
       "    </tr>\n",
       "    <tr>\n",
       "      <th>330</th>\n",
       "      <td>318</td>\n",
       "      <td>Trek Checkpoint ALR 5 Women's - 2019</td>\n",
       "      <td>9</td>\n",
       "      <td>7</td>\n",
       "      <td>2019</td>\n",
       "      <td>1999.99</td>\n",
       "      <td>Low</td>\n",
       "    </tr>\n",
       "    <tr>\n",
       "      <th>331</th>\n",
       "      <td>319</td>\n",
       "      <td>Trek Checkpoint SL 5 Women's - 2019</td>\n",
       "      <td>9</td>\n",
       "      <td>7</td>\n",
       "      <td>2019</td>\n",
       "      <td>2799.99</td>\n",
       "      <td>Medium</td>\n",
       "    </tr>\n",
       "    <tr>\n",
       "      <th>332</th>\n",
       "      <td>320</td>\n",
       "      <td>Trek Checkpoint SL 6 - 2019</td>\n",
       "      <td>9</td>\n",
       "      <td>7</td>\n",
       "      <td>2019</td>\n",
       "      <td>3799.99</td>\n",
       "      <td>Medium</td>\n",
       "    </tr>\n",
       "    <tr>\n",
       "      <th>333</th>\n",
       "      <td>321</td>\n",
       "      <td>Trek Checkpoint ALR Frameset - 2019</td>\n",
       "      <td>9</td>\n",
       "      <td>7</td>\n",
       "      <td>2019</td>\n",
       "      <td>3199.99</td>\n",
       "      <td>Medium</td>\n",
       "    </tr>\n",
       "  </tbody>\n",
       "</table>\n",
       "<p>334 rows × 7 columns</p>\n",
       "</div>"
      ],
      "text/plain": [
       "     product_id                          product_name  brand_id  category_id  \\\n",
       "0             1                       Trek 820 - 2016         9            6   \n",
       "1             2    Ritchey Timberwolf Frameset - 2016         5            6   \n",
       "2             3       Surly Wednesday Frameset - 2016         8            6   \n",
       "3             4              Trek Fuel EX 8 29 - 2016         9            6   \n",
       "4             5          Heller Shagamaw Frame - 2016         3            6   \n",
       "..          ...                                   ...       ...          ...   \n",
       "329         317          Trek Checkpoint ALR 5 - 2019         9            7   \n",
       "330         318  Trek Checkpoint ALR 5 Women's - 2019         9            7   \n",
       "331         319   Trek Checkpoint SL 5 Women's - 2019         9            7   \n",
       "332         320           Trek Checkpoint SL 6 - 2019         9            7   \n",
       "333         321   Trek Checkpoint ALR Frameset - 2019         9            7   \n",
       "\n",
       "     model_year  list_price price_range  \n",
       "0          2016      379.99    Very Low  \n",
       "1          2016      749.99         Low  \n",
       "2          2016      999.99         Low  \n",
       "3          2016     2899.99      Medium  \n",
       "4          2016     1320.99         Low  \n",
       "..          ...         ...         ...  \n",
       "329        2019     1999.99         Low  \n",
       "330        2019     1999.99         Low  \n",
       "331        2019     2799.99      Medium  \n",
       "332        2019     3799.99      Medium  \n",
       "333        2019     3199.99      Medium  \n",
       "\n",
       "[334 rows x 7 columns]"
      ]
     },
     "execution_count": 66,
     "metadata": {},
     "output_type": "execute_result"
    }
   ],
   "source": [
    "df_products"
   ]
  },
  {
   "cell_type": "code",
   "execution_count": 68,
   "id": "423b63a8-6914-41ea-9f28-2e43bc2102dc",
   "metadata": {},
   "outputs": [
    {
     "name": "stdout",
     "output_type": "stream",
     "text": [
      "<class 'pandas.core.frame.DataFrame'>\n",
      "RangeIndex: 334 entries, 0 to 333\n",
      "Data columns (total 7 columns):\n",
      " #   Column        Non-Null Count  Dtype   \n",
      "---  ------        --------------  -----   \n",
      " 0   product_id    334 non-null    int64   \n",
      " 1   product_name  334 non-null    object  \n",
      " 2   brand_id      334 non-null    int64   \n",
      " 3   category_id   334 non-null    int64   \n",
      " 4   model_year    334 non-null    int64   \n",
      " 5   list_price    334 non-null    float64 \n",
      " 6   price_range   334 non-null    category\n",
      "dtypes: category(1), float64(1), int64(4), object(1)\n",
      "memory usage: 16.3+ KB\n"
     ]
    }
   ],
   "source": [
    "df_products.info()"
   ]
  },
  {
   "cell_type": "markdown",
   "id": "10ef4a83-8d25-4902-a3ad-614b3f36abc2",
   "metadata": {},
   "source": [
    "-------------------------------"
   ]
  },
  {
   "cell_type": "markdown",
   "id": "f9201321-1914-47de-9453-b0e52099696a",
   "metadata": {},
   "source": [
    "### Stores Table: combining the street, city, and state columns to create a full address"
   ]
  },
  {
   "cell_type": "code",
   "execution_count": 78,
   "id": "f48121ed-104b-4a39-879b-e8a02d1298c4",
   "metadata": {},
   "outputs": [],
   "source": [
    "df_stores['full_address'] = df_stores['street'] + ', ' + df_stores['city'] + ', ' + df_stores['state']"
   ]
  },
  {
   "cell_type": "code",
   "execution_count": 76,
   "id": "91e24a2e-7201-4407-a657-bef32bb221d8",
   "metadata": {},
   "outputs": [
    {
     "data": {
      "text/plain": [
       "0    3700 Portola Drive, Santa Cruz, CA \n",
       "1       4200 Chestnut Lane, Baldwin, NY \n",
       "2      8000 Fairway Avenue, Rowlett, TX \n",
       "Name: full_address, dtype: object"
      ]
     },
     "execution_count": 76,
     "metadata": {},
     "output_type": "execute_result"
    }
   ],
   "source": [
    "df_stores['full_address']"
   ]
  },
  {
   "cell_type": "markdown",
   "id": "821eae2f-3b3b-4587-9286-017155ef3e3c",
   "metadata": {},
   "source": [
    "# Step 5: Data Staging "
   ]
  },
  {
   "cell_type": "code",
   "execution_count": 86,
   "id": "e811f920-a502-41b4-8ebc-8eb746a3cffd",
   "metadata": {},
   "outputs": [],
   "source": [
    "df_customers.to_csv('Staging_1/customers_transformed.csv', index=False)\n",
    "df_products.to_csv('Staging_1/products_transformed.csv', index=False)\n",
    "df_stores.to_csv('Staging_1/stores_transformed.csv', index=False)"
   ]
  },
  {
   "cell_type": "markdown",
   "id": "427bb379-650c-43ee-8c5e-d889c0488b19",
   "metadata": {},
   "source": [
    "# Step 6: Advanced Transformation (For Analysis and Visualization)"
   ]
  },
  {
   "cell_type": "markdown",
   "id": "2091942c-c509-446c-82fe-69770a38d198",
   "metadata": {},
   "source": [
    "making additional transformations to the staged data to prepare it for analysis and visualization. "
   ]
  },
  {
   "cell_type": "code",
   "execution_count": 160,
   "id": "ba9db111-0344-4b67-82e4-796b6ff0cc3a",
   "metadata": {},
   "outputs": [],
   "source": [
    "products_transformed = pd.read_csv('Staging_1/products_transformed.csv')\n",
    "customers_transformed = pd.read_csv('Staging_1/customers_transformed.csv')\n",
    "stores_transformed = pd.read_csv('Staging_1/stores_transformed.csv')"
   ]
  },
  {
   "cell_type": "markdown",
   "id": "5c8e5152-369e-4472-8992-e270ca0ea7e3",
   "metadata": {},
   "source": [
    "#### Products table: Applying 10% Discount"
   ]
  },
  {
   "cell_type": "code",
   "execution_count": 162,
   "id": "57f56083-cca9-44d3-9d54-f947c6e4e1e6",
   "metadata": {},
   "outputs": [],
   "source": [
    "# Adding a calculated field for discounted price (10% discount example)\n",
    "products_transformed['discounted_price'] = products_transformed['list_price'] * 0.9\n"
   ]
  },
  {
   "cell_type": "code",
   "execution_count": 164,
   "id": "ba9b53b2-0845-4b53-9cca-e5f4fd35cfb1",
   "metadata": {},
   "outputs": [
    {
     "data": {
      "text/plain": [
       "0       341.991\n",
       "1       674.991\n",
       "2       899.991\n",
       "3      2609.991\n",
       "4      1188.891\n",
       "         ...   \n",
       "329    1799.991\n",
       "330    1799.991\n",
       "331    2519.991\n",
       "332    3419.991\n",
       "333    2879.991\n",
       "Name: discounted_price, Length: 334, dtype: float64"
      ]
     },
     "execution_count": 164,
     "metadata": {},
     "output_type": "execute_result"
    }
   ],
   "source": [
    "products_transformed['discounted_price']"
   ]
  },
  {
   "cell_type": "code",
   "execution_count": 166,
   "id": "ff69f789-34a8-4676-92e7-fe1a94be8706",
   "metadata": {},
   "outputs": [
    {
     "data": {
      "text/html": [
       "<div>\n",
       "<style scoped>\n",
       "    .dataframe tbody tr th:only-of-type {\n",
       "        vertical-align: middle;\n",
       "    }\n",
       "\n",
       "    .dataframe tbody tr th {\n",
       "        vertical-align: top;\n",
       "    }\n",
       "\n",
       "    .dataframe thead th {\n",
       "        text-align: right;\n",
       "    }\n",
       "</style>\n",
       "<table border=\"1\" class=\"dataframe\">\n",
       "  <thead>\n",
       "    <tr style=\"text-align: right;\">\n",
       "      <th></th>\n",
       "      <th>product_id</th>\n",
       "      <th>product_name</th>\n",
       "      <th>brand_id</th>\n",
       "      <th>category_id</th>\n",
       "      <th>model_year</th>\n",
       "      <th>list_price</th>\n",
       "      <th>price_range</th>\n",
       "      <th>discounted_price</th>\n",
       "    </tr>\n",
       "  </thead>\n",
       "  <tbody>\n",
       "    <tr>\n",
       "      <th>0</th>\n",
       "      <td>1</td>\n",
       "      <td>Trek 820 - 2016</td>\n",
       "      <td>9</td>\n",
       "      <td>6</td>\n",
       "      <td>2016</td>\n",
       "      <td>379.99</td>\n",
       "      <td>Very Low</td>\n",
       "      <td>341.991</td>\n",
       "    </tr>\n",
       "    <tr>\n",
       "      <th>1</th>\n",
       "      <td>2</td>\n",
       "      <td>Ritchey Timberwolf Frameset - 2016</td>\n",
       "      <td>5</td>\n",
       "      <td>6</td>\n",
       "      <td>2016</td>\n",
       "      <td>749.99</td>\n",
       "      <td>Low</td>\n",
       "      <td>674.991</td>\n",
       "    </tr>\n",
       "    <tr>\n",
       "      <th>2</th>\n",
       "      <td>3</td>\n",
       "      <td>Surly Wednesday Frameset - 2016</td>\n",
       "      <td>8</td>\n",
       "      <td>6</td>\n",
       "      <td>2016</td>\n",
       "      <td>999.99</td>\n",
       "      <td>Low</td>\n",
       "      <td>899.991</td>\n",
       "    </tr>\n",
       "    <tr>\n",
       "      <th>3</th>\n",
       "      <td>4</td>\n",
       "      <td>Trek Fuel EX 8 29 - 2016</td>\n",
       "      <td>9</td>\n",
       "      <td>6</td>\n",
       "      <td>2016</td>\n",
       "      <td>2899.99</td>\n",
       "      <td>Medium</td>\n",
       "      <td>2609.991</td>\n",
       "    </tr>\n",
       "    <tr>\n",
       "      <th>4</th>\n",
       "      <td>5</td>\n",
       "      <td>Heller Shagamaw Frame - 2016</td>\n",
       "      <td>3</td>\n",
       "      <td>6</td>\n",
       "      <td>2016</td>\n",
       "      <td>1320.99</td>\n",
       "      <td>Low</td>\n",
       "      <td>1188.891</td>\n",
       "    </tr>\n",
       "    <tr>\n",
       "      <th>...</th>\n",
       "      <td>...</td>\n",
       "      <td>...</td>\n",
       "      <td>...</td>\n",
       "      <td>...</td>\n",
       "      <td>...</td>\n",
       "      <td>...</td>\n",
       "      <td>...</td>\n",
       "      <td>...</td>\n",
       "    </tr>\n",
       "    <tr>\n",
       "      <th>329</th>\n",
       "      <td>317</td>\n",
       "      <td>Trek Checkpoint ALR 5 - 2019</td>\n",
       "      <td>9</td>\n",
       "      <td>7</td>\n",
       "      <td>2019</td>\n",
       "      <td>1999.99</td>\n",
       "      <td>Low</td>\n",
       "      <td>1799.991</td>\n",
       "    </tr>\n",
       "    <tr>\n",
       "      <th>330</th>\n",
       "      <td>318</td>\n",
       "      <td>Trek Checkpoint ALR 5 Women's - 2019</td>\n",
       "      <td>9</td>\n",
       "      <td>7</td>\n",
       "      <td>2019</td>\n",
       "      <td>1999.99</td>\n",
       "      <td>Low</td>\n",
       "      <td>1799.991</td>\n",
       "    </tr>\n",
       "    <tr>\n",
       "      <th>331</th>\n",
       "      <td>319</td>\n",
       "      <td>Trek Checkpoint SL 5 Women's - 2019</td>\n",
       "      <td>9</td>\n",
       "      <td>7</td>\n",
       "      <td>2019</td>\n",
       "      <td>2799.99</td>\n",
       "      <td>Medium</td>\n",
       "      <td>2519.991</td>\n",
       "    </tr>\n",
       "    <tr>\n",
       "      <th>332</th>\n",
       "      <td>320</td>\n",
       "      <td>Trek Checkpoint SL 6 - 2019</td>\n",
       "      <td>9</td>\n",
       "      <td>7</td>\n",
       "      <td>2019</td>\n",
       "      <td>3799.99</td>\n",
       "      <td>Medium</td>\n",
       "      <td>3419.991</td>\n",
       "    </tr>\n",
       "    <tr>\n",
       "      <th>333</th>\n",
       "      <td>321</td>\n",
       "      <td>Trek Checkpoint ALR Frameset - 2019</td>\n",
       "      <td>9</td>\n",
       "      <td>7</td>\n",
       "      <td>2019</td>\n",
       "      <td>3199.99</td>\n",
       "      <td>Medium</td>\n",
       "      <td>2879.991</td>\n",
       "    </tr>\n",
       "  </tbody>\n",
       "</table>\n",
       "<p>334 rows × 8 columns</p>\n",
       "</div>"
      ],
      "text/plain": [
       "     product_id                          product_name  brand_id  category_id  \\\n",
       "0             1                       Trek 820 - 2016         9            6   \n",
       "1             2    Ritchey Timberwolf Frameset - 2016         5            6   \n",
       "2             3       Surly Wednesday Frameset - 2016         8            6   \n",
       "3             4              Trek Fuel EX 8 29 - 2016         9            6   \n",
       "4             5          Heller Shagamaw Frame - 2016         3            6   \n",
       "..          ...                                   ...       ...          ...   \n",
       "329         317          Trek Checkpoint ALR 5 - 2019         9            7   \n",
       "330         318  Trek Checkpoint ALR 5 Women's - 2019         9            7   \n",
       "331         319   Trek Checkpoint SL 5 Women's - 2019         9            7   \n",
       "332         320           Trek Checkpoint SL 6 - 2019         9            7   \n",
       "333         321   Trek Checkpoint ALR Frameset - 2019         9            7   \n",
       "\n",
       "     model_year  list_price price_range  discounted_price  \n",
       "0          2016      379.99    Very Low           341.991  \n",
       "1          2016      749.99         Low           674.991  \n",
       "2          2016      999.99         Low           899.991  \n",
       "3          2016     2899.99      Medium          2609.991  \n",
       "4          2016     1320.99         Low          1188.891  \n",
       "..          ...         ...         ...               ...  \n",
       "329        2019     1999.99         Low          1799.991  \n",
       "330        2019     1999.99         Low          1799.991  \n",
       "331        2019     2799.99      Medium          2519.991  \n",
       "332        2019     3799.99      Medium          3419.991  \n",
       "333        2019     3199.99      Medium          2879.991  \n",
       "\n",
       "[334 rows x 8 columns]"
      ]
     },
     "execution_count": 166,
     "metadata": {},
     "output_type": "execute_result"
    }
   ],
   "source": [
    "products_transformed"
   ]
  },
  {
   "cell_type": "markdown",
   "id": "10fda21b-6782-4ab4-b700-9064687b440c",
   "metadata": {},
   "source": [
    "#### Products table: calculating profit margin but first creating a *synthetic* cost column(70% of the price) to apply the concept of the profit"
   ]
  },
  {
   "cell_type": "code",
   "execution_count": 169,
   "id": "3900bfa6-47bd-4e1b-b054-4a8f693b7f31",
   "metadata": {},
   "outputs": [],
   "source": [
    "# Creating a synthetic cost column (70% of the list price)\n",
    "products_transformed['cost'] = products_transformed['list_price'] * 0.7\n",
    "\n",
    "# calculating profit margin\n",
    "products_transformed['profit_margin'] = (products_transformed['list_price'] - products_transformed['cost']) / products_transformed['list_price']"
   ]
  },
  {
   "cell_type": "code",
   "execution_count": 171,
   "id": "0338ff84-14b9-41d3-96e4-0ac9042b598f",
   "metadata": {},
   "outputs": [
    {
     "data": {
      "text/plain": [
       "0      0.3\n",
       "1      0.3\n",
       "2      0.3\n",
       "3      0.3\n",
       "4      0.3\n",
       "      ... \n",
       "329    0.3\n",
       "330    0.3\n",
       "331    0.3\n",
       "332    0.3\n",
       "333    0.3\n",
       "Name: profit_margin, Length: 334, dtype: float64"
      ]
     },
     "execution_count": 171,
     "metadata": {},
     "output_type": "execute_result"
    }
   ],
   "source": [
    "products_transformed['profit_margin']"
   ]
  },
  {
   "cell_type": "code",
   "execution_count": null,
   "id": "39e47a5d-ed04-4a17-bcde-be58fa543926",
   "metadata": {},
   "outputs": [],
   "source": []
  },
  {
   "cell_type": "markdown",
   "id": "39a03919-d770-4c80-9a24-a2bc598affc9",
   "metadata": {},
   "source": [
    "## Step 7: Loading to Information Mart"
   ]
  },
  {
   "cell_type": "code",
   "execution_count": 175,
   "id": "7882ab53-0c03-440f-839e-483f4a783755",
   "metadata": {},
   "outputs": [],
   "source": [
    "import os\n",
    "\n",
    "# Define the path for Information Mart\n",
    "info_mart_path = 'Information_Mart/'\n",
    "\n",
    "# Save the DataFrames as CSV files\n",
    "customers_transformed.to_csv(os.path.join('Information_Mart', 'dim_customers.csv'), index=False)\n",
    "products_transformed.to_csv(os.path.join('Information_Mart', 'dim_products.csv'), index=False)\n",
    "stores_transformed.to_csv(os.path.join('Information_Mart', 'dim_stores.csv'), index=False)\n"
   ]
  },
  {
   "cell_type": "code",
   "execution_count": null,
   "id": "032891bd-3114-4fa8-840c-b1373b41ad26",
   "metadata": {},
   "outputs": [],
   "source": []
  },
  {
   "cell_type": "markdown",
   "id": "07c966e6-15e3-40bb-a713-8e637272c1d8",
   "metadata": {},
   "source": [
    "## Step 8: Data Anlysis(BI)"
   ]
  },
  {
   "cell_type": "code",
   "execution_count": 182,
   "id": "1d7fdbf6-4fd0-4a52-b642-e34f05ef7e43",
   "metadata": {},
   "outputs": [],
   "source": [
    "dim_products = pd.read_csv('Information_Mart/dim_products.csv')\n",
    "dim_customers = pd.read_csv('Information_Mart/dim_customers.csv')\n",
    "dim_stores = pd.read_csv('Information_Mart/dim_stores.csv')"
   ]
  },
  {
   "cell_type": "markdown",
   "id": "71420af8-eae0-4f90-8aed-e2fae84dc579",
   "metadata": {},
   "source": [
    "### 8.1. Count of customers by state\n"
   ]
  },
  {
   "cell_type": "code",
   "execution_count": 191,
   "id": "14c91368-c2f0-40ef-9c15-73e77bf2a556",
   "metadata": {},
   "outputs": [
    {
     "name": "stdout",
     "output_type": "stream",
     "text": [
      "state\n",
      "NY    1019\n",
      "CA     284\n",
      "TX     142\n",
      "Name: count, dtype: int64\n"
     ]
    }
   ],
   "source": [
    "customer_count_by_state = dim_customers['state'].value_counts()\n",
    "print(customer_count_by_state)"
   ]
  },
  {
   "cell_type": "markdown",
   "id": "27b4139e-29e7-4d5c-9296-2db1d9a99d81",
   "metadata": {},
   "source": [
    "### 8.2. Average price of products"
   ]
  },
  {
   "cell_type": "code",
   "execution_count": 195,
   "id": "0606fde2-7349-4874-b627-5c8e7f6b5b7c",
   "metadata": {},
   "outputs": [
    {
     "name": "stdout",
     "output_type": "stream",
     "text": [
      "Average Price of Products: 1498.0530239520956\n"
     ]
    }
   ],
   "source": [
    "average_price = dim_products['list_price'].mean()\n",
    "print(f'Average Price of Products: {average_price}')"
   ]
  },
  {
   "cell_type": "markdown",
   "id": "7fb6c6bc-3612-4f20-a472-90fff2f2272f",
   "metadata": {},
   "source": [
    "### 8.3. Count of customers by state"
   ]
  },
  {
   "cell_type": "code",
   "execution_count": 210,
   "id": "8172eace-4482-41c0-bf2b-20bda441a591",
   "metadata": {},
   "outputs": [
    {
     "data": {
      "image/png": "[encoded data removed]",
      "text/plain": [
       "<Figure size 640x480 with 1 Axes>"
      ]
     },
     "metadata": {},
     "output_type": "display_data"
    }
   ],
   "source": [
    "import seaborn as sns\n",
    "import matplotlib.pyplot as plt\n",
    "\n",
    "sns.barplot(x=customer_count_by_state.index, y=customer_count_by_state.values)\n",
    "plt.title('Number of Customers by State')\n",
    "plt.xlabel('State')\n",
    "plt.ylabel('Number of Customers')\n",
    "plt.xticks(rotation=45)\n",
    "plt.show()"
   ]
  },
  {
   "cell_type": "markdown",
   "id": "467aacd9-70f4-4c82-a126-da0b15ef9af1",
   "metadata": {},
   "source": [
    "### 8.4. Histogram of product prices "
   ]
  },
  {
   "cell_type": "code",
   "execution_count": 218,
   "id": "14b0040b-850e-4bba-8cd6-b4dcb9986300",
   "metadata": {},
   "outputs": [
    {
     "data": {
      "image/png": "[encoded data removed]",
      "text/plain": [
       "<Figure size 1000x600 with 1 Axes>"
      ]
     },
     "metadata": {},
     "output_type": "display_data"
    }
   ],
   "source": [
    "plt.figure(figsize=(10, 6))\n",
    "sns.histplot(dim_products['list_price'], bins=20, kde=True)\n",
    "plt.title('Distribution of Product Prices')\n",
    "plt.xlabel('Price')\n",
    "plt.ylabel('Frequency')\n",
    "plt.show()\n"
   ]
  },
  {
   "cell_type": "markdown",
   "id": "ed573d6f-b8fd-4cac-8751-da08aa16aeb1",
   "metadata": {},
   "source": [
    "### 8.5. Top 5 most expensive products"
   ]
  },
  {
   "cell_type": "code",
   "execution_count": 237,
   "id": "4f64b17a-337d-48a8-ae31-4224ae49f19c",
   "metadata": {},
   "outputs": [
    {
     "data": {
      "image/png": "[encoded data removed]",
      "text/plain": [
       "<Figure size 700x700 with 1 Axes>"
      ]
     },
     "metadata": {},
     "output_type": "display_data"
    }
   ],
   "source": [
    "top_products = dim_products.nlargest(5, 'list_price')\n",
    "\n",
    "plt.figure(figsize=(7, 7))\n",
    "sns.barplot(x='product_name', y='list_price', data=top_products)\n",
    "plt.title('Top 5 Most Expensive Products')\n",
    "plt.xlabel('Product Name')\n",
    "plt.ylabel('Price')\n",
    "plt.xticks(rotation=45)\n",
    "plt.show()\n"
   ]
  },
  {
   "cell_type": "markdown",
   "id": "7b6f9ff1-c96c-46e2-8a6f-1ba82a45744c",
   "metadata": {},
   "source": [
    "### 8.6. Count of products by model year\n"
   ]
  },
  {
   "cell_type": "code",
   "execution_count": 282,
   "id": "bc8fc3b3-e422-48d5-8a47-233bfbf98688",
   "metadata": {},
   "outputs": [
    {
     "data": {
      "image/png": "[encoded data removed]",
      "text/plain": [
       "<Figure size 700x600 with 1 Axes>"
      ]
     },
     "metadata": {},
     "output_type": "display_data"
    }
   ],
   "source": [
    "product_count_by_year = dim_products['model_year'].value_counts().sort_index()\n",
    "\n",
    "plt.figure(figsize=(7, 6))\n",
    "sns.lineplot(x=product_count_by_year.index, y=product_count_by_year.values, marker='o')\n",
    "plt.title('Count of Products by Model Year')\n",
    "plt.xlabel('Model Year')\n",
    "plt.ylabel('Count of Products')\n",
    "\n",
    "\n",
    "plt.xticks(ticks=product_count_by_year.index, labels=product_count_by_year.index, rotation=45)\n",
    "plt.grid(True)\n",
    "plt.show()\n"
   ]
  },
  {
   "cell_type": "code",
   "execution_count": null,
   "id": "00e22ab5-f321-42d8-857e-27bf3280c132",
   "metadata": {},
   "outputs": [],
   "source": []
  },
  {
   "cell_type": "code",
   "execution_count": null,
   "id": "285645af-cdc6-468a-8fca-c18d0b3fe5c3",
   "metadata": {},
   "outputs": [],
   "source": []
  },
  {
   "cell_type": "code",
   "execution_count": null,
   "id": "5506f1fb-4d47-49a6-a183-3ce0f152fcbb",
   "metadata": {},
   "outputs": [],
   "source": []
  }
 ],
 "metadata": {
  "kernelspec": {
   "display_name": "Python 3 (ipykernel)",
   "language": "python",
   "name": "python3"
  },
  "language_info": {
   "codemirror_mode": {
    "name": "ipython",
    "version": 3
   },
   "file_extension": ".py",
   "mimetype": "text/x-python",
   "name": "python",
   "nbconvert_exporter": "python",
   "pygments_lexer": "ipython3",
   "version": "3.12.4"
  }
 },
 "nbformat": 4,
 "nbformat_minor": 5
}
